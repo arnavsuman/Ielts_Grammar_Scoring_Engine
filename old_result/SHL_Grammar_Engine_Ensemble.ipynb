{
 "cells": [
  {
   "cell_type": "markdown",
   "id": "dd8e4d4b-91aa-4842-b7c1-74e2d03a8336",
   "metadata": {},
   "source": [
    "## Imports"
   ]
  },
  {
   "cell_type": "code",
   "execution_count": 1,
   "id": "22bb1068-57e4-4554-b3bc-bbb785d0759d",
   "metadata": {},
   "outputs": [],
   "source": [
    "# Libraries for file handling, data, and visualization\n",
    "import os\n",
    "import librosa\n",
    "import pandas as pd\n",
    "import matplotlib.pyplot as plt\n",
    "import seaborn as sns\n",
    "\n",
    "# Libraries for machine learning and evaluation\n",
    "from sklearn.model_selection import train_test_split\n",
    "from sklearn.metrics import mean_squared_error, mean_absolute_error\n",
    "from sklearn.svm import SVR\n",
    "from sklearn.preprocessing import StandardScaler\n",
    "from xgboost import XGBRegressor\n",
    "\n",
    "# Libraries for language and transcription\n",
    "import language_tool_python\n",
    "import whisper\n",
    "import textstat\n",
    "\n",
    "# Libraries for RNN\n",
    "import torch\n",
    "import torch.nn as nn\n",
    "from torch.utils.data import Dataset, DataLoader\n"
   ]
  },
  {
   "cell_type": "markdown",
   "id": "33e598e5-933f-4766-86bf-804ac931ceb1",
   "metadata": {},
   "source": [
    "## Load CSV Data"
   ]
  },
  {
   "cell_type": "code",
   "execution_count": 3,
   "id": "dcc24748-186e-4a38-8679-fc1aa9a92ac8",
   "metadata": {},
   "outputs": [
    {
     "data": {
      "text/html": [
       "<div>\n",
       "<style scoped>\n",
       "    .dataframe tbody tr th:only-of-type {\n",
       "        vertical-align: middle;\n",
       "    }\n",
       "\n",
       "    .dataframe tbody tr th {\n",
       "        vertical-align: top;\n",
       "    }\n",
       "\n",
       "    .dataframe thead th {\n",
       "        text-align: right;\n",
       "    }\n",
       "</style>\n",
       "<table border=\"1\" class=\"dataframe\">\n",
       "  <thead>\n",
       "    <tr style=\"text-align: right;\">\n",
       "      <th></th>\n",
       "      <th>filename</th>\n",
       "      <th>label</th>\n",
       "    </tr>\n",
       "  </thead>\n",
       "  <tbody>\n",
       "    <tr>\n",
       "      <th>0</th>\n",
       "      <td>audio_1261.wav</td>\n",
       "      <td>1.0</td>\n",
       "    </tr>\n",
       "    <tr>\n",
       "      <th>1</th>\n",
       "      <td>audio_942.wav</td>\n",
       "      <td>1.5</td>\n",
       "    </tr>\n",
       "    <tr>\n",
       "      <th>2</th>\n",
       "      <td>audio_1110.wav</td>\n",
       "      <td>1.5</td>\n",
       "    </tr>\n",
       "    <tr>\n",
       "      <th>3</th>\n",
       "      <td>audio_1024.wav</td>\n",
       "      <td>1.5</td>\n",
       "    </tr>\n",
       "    <tr>\n",
       "      <th>4</th>\n",
       "      <td>audio_538.wav</td>\n",
       "      <td>2.0</td>\n",
       "    </tr>\n",
       "  </tbody>\n",
       "</table>\n",
       "</div>"
      ],
      "text/plain": [
       "         filename  label\n",
       "0  audio_1261.wav    1.0\n",
       "1   audio_942.wav    1.5\n",
       "2  audio_1110.wav    1.5\n",
       "3  audio_1024.wav    1.5\n",
       "4   audio_538.wav    2.0"
      ]
     },
     "execution_count": 3,
     "metadata": {},
     "output_type": "execute_result"
    }
   ],
   "source": [
    "# Load training and test CSVs\n",
    "train_df = pd.read_csv(\"C:/Users/anves/Documents/desktop/shl/dataset/train.csv\")\n",
    "test_df = pd.read_csv(\"C:/Users/anves/Documents/desktop/shl/dataset/test.csv\")\n",
    "\n",
    "# Display sample data\n",
    "train_df.head()"
   ]
  },
  {
   "cell_type": "markdown",
   "id": "1b845fa2-4e57-4992-8acd-d131d7429abf",
   "metadata": {},
   "source": [
    "## Transcription and Grammar"
   ]
  },
  {
   "cell_type": "code",
   "execution_count": 4,
   "id": "3862e394-b84f-4aa1-a1d5-7c907bb261ea",
   "metadata": {},
   "outputs": [],
   "source": [
    "# Load Whisper model for audio transcription\n",
    "whisper_model = whisper.load_model(\"base\")\n",
    "\n",
    "# Load grammar checker\n",
    "tool = language_tool_python.LanguageTool('en-US')\n"
   ]
  },
  {
   "cell_type": "markdown",
   "id": "b61023e2-cc59-4742-bdad-f0c9a4f100de",
   "metadata": {},
   "source": [
    "## Feature Extraction Function"
   ]
  },
  {
   "cell_type": "code",
   "execution_count": 5,
   "id": "37f8674f-0709-4258-a606-8847ed84a064",
   "metadata": {},
   "outputs": [],
   "source": [
    "# Extracts MFCCs and metadata from an audio file\n",
    "def transcribe_audio(path):\n",
    "    result = whisper_model.transcribe(path)\n",
    "    return result['text']\n",
    "\n",
    "def grammar_error_count(text):\n",
    "    matches = tool.check(text)\n",
    "    return len(matches)\n",
    "\n",
    "def extract_features(audio_path):\n",
    "    transcript = transcribe_audio(audio_path)\n",
    "    num_errors = grammar_error_count(transcript)\n",
    "    audio, _ = librosa.load(audio_path, sr=16000)\n",
    "\n",
    "    # Audio features\n",
    "    mfcc = librosa.feature.mfcc(y=audio, sr=16000, n_mfcc=13)\n",
    "    mfcc_mean = mfcc.mean(axis=1)\n",
    "\n",
    "    # Text-based linguistic features\n",
    "    num_words = len(transcript.split())\n",
    "    num_sentences = transcript.count('.') + transcript.count('!') + transcript.count('?')\n",
    "    avg_sentence_length = num_words / num_sentences if num_sentences > 0 else num_words\n",
    "    readability = textstat.flesch_reading_ease(transcript)\n",
    "\n",
    "    return list(mfcc_mean), [\n",
    "        num_errors, num_words, num_sentences, avg_sentence_length, readability\n",
    "    ]\n"
   ]
  },
  {
   "cell_type": "markdown",
   "id": "975a5a21-37da-4361-827b-80f1b759a96c",
   "metadata": {},
   "source": [
    "## Extract Features for All Training Samples"
   ]
  },
  {
   "cell_type": "code",
   "execution_count": 6,
   "id": "8c948e9b-c8a2-402b-a22e-29d8cbcda13a",
   "metadata": {},
   "outputs": [],
   "source": [
    "X_seq, X_meta, y = [], [], []"
   ]
  },
  {
   "cell_type": "code",
   "execution_count": 7,
   "id": "53914dd6-913f-44ab-8120-f514b4d68c6d",
   "metadata": {},
   "outputs": [],
   "source": [
    "import warnings\n",
    "warnings.filterwarnings(\"ignore\")"
   ]
  },
  {
   "cell_type": "code",
   "execution_count": 8,
   "id": "cf34b7c7-ed94-4c32-87a3-e1d1fe135d9c",
   "metadata": {},
   "outputs": [],
   "source": [
    "\n",
    "# # Extract features for all training samples\n",
    "# for idx, row in train_df.iterrows():\n",
    "#     print(f\"Processing {idx}\")\n",
    "#     audio_path = os.path.join(\"C:/Users/anves/Documents/desktop/shl/dataset/audios_train\", row[\"filename\"])\n",
    "#     mfcc_mean, meta_features = extract_features(audio_path)\n",
    "#     X_seq.append(mfcc_mean)\n",
    "#     X_meta.append(meta_features)\n",
    "#     y.append(row[\"label\"])\n",
    "\n",
    "# X_seq = np.array(X_seq)\n",
    "# X_meta = np.array(X_meta)\n",
    "# y = np.array(y)"
   ]
  },
  {
   "cell_type": "code",
   "execution_count": null,
   "id": "2d0887e9-68e1-41d0-855a-18484fe5b2dc",
   "metadata": {},
   "outputs": [
    {
     "name": "stdout",
     "output_type": "stream",
     "text": [
      "Processing 0\n"
     ]
    },
    {
     "name": "stderr",
     "output_type": "stream",
     "text": [
      "Exception ignored on calling ctypes callback function: <function ExecutionEngine._raw_object_cache_notify at 0x000001BAC91137F0>\n",
      "Traceback (most recent call last):\n",
      "  File \"C:\\Users\\anves\\AppData\\Local\\Programs\\Python\\Python310\\lib\\site-packages\\llvmlite\\binding\\executionengine.py\", line 178, in _raw_object_cache_notify\n",
      "    def _raw_object_cache_notify(self, data):\n",
      "KeyboardInterrupt: \n"
     ]
    },
    {
     "name": "stdout",
     "output_type": "stream",
     "text": [
      "Processing 1\n",
      "Processing 2\n",
      "Processing 3\n",
      "Processing 4\n",
      "Processing 5\n",
      "Processing 6\n",
      "Processing 7\n",
      "Processing 8\n",
      "Processing 9\n",
      "Processing 10\n",
      "Processing 11\n",
      "Processing 12\n",
      "Processing 13\n",
      "Processing 14\n",
      "Processing 15\n",
      "Processing 16\n",
      "Processing 17\n",
      "Processing 18\n",
      "Processing 19\n",
      "Processing 20\n",
      "Processing 21\n",
      "Processing 22\n",
      "Processing 23\n",
      "Processing 24\n",
      "Processing 25\n",
      "Processing 26\n",
      "Processing 27\n",
      "Processing 28\n",
      "Processing 29\n",
      "Processing 30\n",
      "Processing 31\n",
      "Processing 32\n",
      "Processing 33\n",
      "Processing 34\n",
      "Processing 35\n",
      "Processing 36\n",
      "Processing 37\n",
      "Processing 38\n",
      "Processing 39\n",
      "Processing 40\n",
      "Processing 41\n",
      "Processing 42\n",
      "Processing 43\n",
      "Processing 44\n",
      "Processing 45\n",
      "Processing 46\n",
      "Processing 47\n",
      "Processing 48\n",
      "Processing 49\n",
      "Processing 50\n",
      "Processing 51\n",
      "Processing 52\n",
      "Processing 53\n",
      "Processing 54\n",
      "Processing 55\n",
      "Processing 56\n",
      "Processing 57\n",
      "Processing 58\n",
      "Processing 59\n",
      "Processing 60\n",
      "Processing 61\n",
      "Processing 62\n",
      "Processing 63\n",
      "Processing 64\n",
      "Processing 65\n",
      "Processing 66\n",
      "Processing 67\n",
      "Processing 68\n",
      "Processing 69\n",
      "Processing 70\n",
      "Processing 71\n",
      "Processing 72\n",
      "Processing 73\n",
      "Processing 74\n",
      "Processing 75\n",
      "Processing 76\n",
      "Processing 77\n",
      "Processing 78\n",
      "Processing 79\n",
      "Processing 80\n",
      "Processing 81\n",
      "Processing 82\n",
      "Processing 83\n",
      "Processing 84\n",
      "Processing 85\n",
      "Processing 86\n",
      "Processing 87\n",
      "Processing 88\n",
      "Processing 89\n",
      "Processing 90\n",
      "Processing 91\n",
      "Processing 92\n",
      "Processing 93\n",
      "Processing 94\n",
      "Processing 95\n",
      "Processing 96\n",
      "Processing 97\n",
      "Processing 98\n",
      "Processing 99\n",
      "Processing 100\n",
      "Processing 101\n",
      "Processing 102\n",
      "Processing 103\n",
      "Processing 104\n",
      "Processing 105\n",
      "Processing 106\n",
      "Processing 107\n",
      "Processing 108\n",
      "Processing 109\n",
      "Processing 110\n",
      "Processing 111\n",
      "Processing 112\n",
      "Processing 113\n",
      "Processing 114\n",
      "Processing 115\n",
      "Processing 116\n",
      "Processing 117\n",
      "Processing 118\n",
      "Processing 119\n",
      "Processing 120\n",
      "Processing 121\n",
      "Processing 122\n",
      "Processing 123\n",
      "Processing 124\n"
     ]
    }
   ],
   "source": [
    "# NEW CODE\n",
    "import numpy as np\n",
    "import os\n",
    "\n",
    "# Initialize lists to store features and labels\n",
    "\n",
    "# Extract features for all training samples\n",
    "for idx, row in train_df.iterrows():\n",
    "    print(f\"Processing {idx}\")\n",
    "    audio_path = os.path.join(\"C:/Users/anves/Documents/desktop/shl/dataset/audios_train\", row[\"filename\"])\n",
    "    mfcc_mean, meta_features = extract_features(audio_path)\n",
    "    X_seq.append(mfcc_mean)\n",
    "    X_meta.append(meta_features)\n",
    "    \n",
    "    # Ensure 'row[\"label\"]' is a discrete class label for classification\n",
    "    # If it's a score between 0-5, consider rounding or binning it into discrete classes\n",
    "    y.append(int(row[\"label\"]))  # Ensure it's an integer label for classification\n",
    "\n",
    "# Convert to numpy arrays\n",
    "X_seq = np.array(X_seq)\n",
    "X_meta = np.array(X_meta)\n",
    "y = np.array(y)\n",
    "\n",
    "# Optionally, if y contains continuous values, you can bin it to create discrete classes\n",
    "# For example, if y is a score from 0-5, you could bin it like this:\n",
    "# y = np.digitize(y, bins=[0, 1, 2, 3, 4, 5])\n",
    "\n",
    "# Now, proceed to use the features and labels for classification tasks.\n"
   ]
  },
  {
   "cell_type": "code",
   "execution_count": 9,
   "id": "cf850eaf-ad66-4324-8d26-a6a2c85f3f58",
   "metadata": {},
   "outputs": [],
   "source": [
    "import numpy as np\n",
    "\n",
    "# Save the arrays to disk\n",
    "np.save('X_seq.npy', X_seq)\n",
    "np.save('X_meta.npy', X_meta)\n",
    "np.save('y.npy', y)\n"
   ]
  },
  {
   "cell_type": "code",
   "execution_count": 11,
   "id": "3f67ac14-ea1a-4946-8fdd-bc96e3c7a6a1",
   "metadata": {},
   "outputs": [],
   "source": [
    "# Load NumPy arrays\n",
    "import numpy as np\n",
    "X_seq = np.load('X_seq.npy')\n",
    "X_meta = np.load('X_meta.npy')\n",
    "y = np.load('y.npy')\n"
   ]
  },
  {
   "cell_type": "markdown",
   "id": "bda88734-1761-405d-a511-ae7a0413aa40",
   "metadata": {},
   "source": [
    "## Train-Validation Split & Scaling"
   ]
  },
  {
   "cell_type": "code",
   "execution_count": 12,
   "id": "ea1216f9-c5fe-4ba4-b887-a06abbe429d0",
   "metadata": {},
   "outputs": [],
   "source": [
    "# Split into train and validation sets\n",
    "X_seq_train, X_seq_val, X_meta_train, X_meta_val, y_train, y_val = train_test_split(\n",
    "    X_seq, X_meta, y, test_size=0.2, random_state=42\n",
    ")\n",
    "\n",
    "# Normalize metadata features\n",
    "scaler = StandardScaler()\n",
    "X_meta_train_scaled = scaler.fit_transform(X_meta_train)\n",
    "X_meta_val_scaled = scaler.transform(X_meta_val)"
   ]
  },
  {
   "cell_type": "markdown",
   "id": "15144b07-f5ff-485e-970d-4a0c563984e3",
   "metadata": {},
   "source": [
    "##  Train XGBoost and SVM Models"
   ]
  },
  {
   "cell_type": "code",
   "execution_count": 13,
   "id": "c4ac0ad8-6451-4f48-8814-15424750a3aa",
   "metadata": {},
   "outputs": [],
   "source": [
    "# Model 1: XGBoost\n",
    "xgb = XGBRegressor(n_estimators=100, learning_rate=0.1, max_depth=4, random_state=42)\n",
    "xgb.fit(np.hstack([X_seq_train, X_meta_train_scaled]), y_train)\n",
    "xgb_pred = xgb.predict(np.hstack([X_seq_val, X_meta_val_scaled]))\n",
    "\n",
    "# Model 2: SVM\n",
    "svm = SVR(kernel='rbf')\n",
    "svm.fit(np.hstack([X_seq_train, X_meta_train_scaled]), y_train)\n",
    "svm_pred = svm.predict(np.hstack([X_seq_val, X_meta_val_scaled]))\n"
   ]
  },
  {
   "cell_type": "code",
   "execution_count": 21,
   "id": "f72b9155-31d1-4ca2-a513-d78b79922f14",
   "metadata": {},
   "outputs": [
    {
     "ename": "ValueError",
     "evalue": "Invalid classes inferred from unique values of `y`.  Expected: [0 1 2 3 4 5 6 7], got [1.5 2.  2.5 3.  3.5 4.  4.5 5. ]",
     "output_type": "error",
     "traceback": [
      "\u001b[1;31m---------------------------------------------------------------------------\u001b[0m",
      "\u001b[1;31mValueError\u001b[0m                                Traceback (most recent call last)",
      "Cell \u001b[1;32mIn[21], line 9\u001b[0m\n\u001b[0;32m      7\u001b[0m \u001b[38;5;66;03m# Model 1: XGBoost Classifier\u001b[39;00m\n\u001b[0;32m      8\u001b[0m xgb \u001b[38;5;241m=\u001b[39m XGBClassifier(n_estimators\u001b[38;5;241m=\u001b[39m\u001b[38;5;241m100\u001b[39m, learning_rate\u001b[38;5;241m=\u001b[39m\u001b[38;5;241m0.1\u001b[39m, max_depth\u001b[38;5;241m=\u001b[39m\u001b[38;5;241m4\u001b[39m, random_state\u001b[38;5;241m=\u001b[39m\u001b[38;5;241m42\u001b[39m)\n\u001b[1;32m----> 9\u001b[0m \u001b[43mxgb\u001b[49m\u001b[38;5;241;43m.\u001b[39;49m\u001b[43mfit\u001b[49m\u001b[43m(\u001b[49m\u001b[43mnp\u001b[49m\u001b[38;5;241;43m.\u001b[39;49m\u001b[43mhstack\u001b[49m\u001b[43m(\u001b[49m\u001b[43m[\u001b[49m\u001b[43mX_seq_train\u001b[49m\u001b[43m,\u001b[49m\u001b[43m \u001b[49m\u001b[43mX_meta_train_scaled\u001b[49m\u001b[43m]\u001b[49m\u001b[43m)\u001b[49m\u001b[43m,\u001b[49m\u001b[43m \u001b[49m\u001b[43my_train\u001b[49m\u001b[43m)\u001b[49m\n\u001b[0;32m     10\u001b[0m xgb_pred \u001b[38;5;241m=\u001b[39m xgb\u001b[38;5;241m.\u001b[39mpredict(np\u001b[38;5;241m.\u001b[39mhstack([X_seq_val, X_meta_val_scaled]))\n\u001b[0;32m     12\u001b[0m \u001b[38;5;66;03m# Model 2: SVM Classifier\u001b[39;00m\n",
      "File \u001b[1;32m~\\AppData\\Local\\Programs\\Python\\Python310\\lib\\site-packages\\xgboost\\core.py:729\u001b[0m, in \u001b[0;36mrequire_keyword_args.<locals>.throw_if.<locals>.inner_f\u001b[1;34m(*args, **kwargs)\u001b[0m\n\u001b[0;32m    727\u001b[0m \u001b[38;5;28;01mfor\u001b[39;00m k, arg \u001b[38;5;129;01min\u001b[39;00m \u001b[38;5;28mzip\u001b[39m(sig\u001b[38;5;241m.\u001b[39mparameters, args):\n\u001b[0;32m    728\u001b[0m     kwargs[k] \u001b[38;5;241m=\u001b[39m arg\n\u001b[1;32m--> 729\u001b[0m \u001b[38;5;28;01mreturn\u001b[39;00m func(\u001b[38;5;241m*\u001b[39m\u001b[38;5;241m*\u001b[39mkwargs)\n",
      "File \u001b[1;32m~\\AppData\\Local\\Programs\\Python\\Python310\\lib\\site-packages\\xgboost\\sklearn.py:1640\u001b[0m, in \u001b[0;36mXGBClassifier.fit\u001b[1;34m(self, X, y, sample_weight, base_margin, eval_set, verbose, xgb_model, sample_weight_eval_set, base_margin_eval_set, feature_weights)\u001b[0m\n\u001b[0;32m   1635\u001b[0m     expected_classes \u001b[38;5;241m=\u001b[39m \u001b[38;5;28mself\u001b[39m\u001b[38;5;241m.\u001b[39mclasses_\n\u001b[0;32m   1636\u001b[0m \u001b[38;5;28;01mif\u001b[39;00m (\n\u001b[0;32m   1637\u001b[0m     classes\u001b[38;5;241m.\u001b[39mshape \u001b[38;5;241m!=\u001b[39m expected_classes\u001b[38;5;241m.\u001b[39mshape\n\u001b[0;32m   1638\u001b[0m     \u001b[38;5;129;01mor\u001b[39;00m \u001b[38;5;129;01mnot\u001b[39;00m (classes \u001b[38;5;241m==\u001b[39m expected_classes)\u001b[38;5;241m.\u001b[39mall()\n\u001b[0;32m   1639\u001b[0m ):\n\u001b[1;32m-> 1640\u001b[0m     \u001b[38;5;28;01mraise\u001b[39;00m \u001b[38;5;167;01mValueError\u001b[39;00m(\n\u001b[0;32m   1641\u001b[0m         \u001b[38;5;124mf\u001b[39m\u001b[38;5;124m\"\u001b[39m\u001b[38;5;124mInvalid classes inferred from unique values of `y`.  \u001b[39m\u001b[38;5;124m\"\u001b[39m\n\u001b[0;32m   1642\u001b[0m         \u001b[38;5;124mf\u001b[39m\u001b[38;5;124m\"\u001b[39m\u001b[38;5;124mExpected: \u001b[39m\u001b[38;5;132;01m{\u001b[39;00mexpected_classes\u001b[38;5;132;01m}\u001b[39;00m\u001b[38;5;124m, got \u001b[39m\u001b[38;5;132;01m{\u001b[39;00mclasses\u001b[38;5;132;01m}\u001b[39;00m\u001b[38;5;124m\"\u001b[39m\n\u001b[0;32m   1643\u001b[0m     )\n\u001b[0;32m   1645\u001b[0m params \u001b[38;5;241m=\u001b[39m \u001b[38;5;28mself\u001b[39m\u001b[38;5;241m.\u001b[39mget_xgb_params()\n\u001b[0;32m   1647\u001b[0m \u001b[38;5;28;01mif\u001b[39;00m \u001b[38;5;28mcallable\u001b[39m(\u001b[38;5;28mself\u001b[39m\u001b[38;5;241m.\u001b[39mobjective):\n",
      "\u001b[1;31mValueError\u001b[0m: Invalid classes inferred from unique values of `y`.  Expected: [0 1 2 3 4 5 6 7], got [1.5 2.  2.5 3.  3.5 4.  4.5 5. ]"
     ]
    }
   ],
   "source": [
    "# Import necessary classifiers\n",
    "from xgboost import XGBClassifier\n",
    "from sklearn.svm import SVC\n",
    "from sklearn.metrics import accuracy_score, classification_report\n",
    "import numpy as np\n",
    "\n",
    "# Model 1: XGBoost Classifier\n",
    "xgb = XGBClassifier(n_estimators=100, learning_rate=0.1, max_depth=4, random_state=42)\n",
    "xgb.fit(np.hstack([X_seq_train, X_meta_train_scaled]), y_train)\n",
    "xgb_pred = xgb.predict(np.hstack([X_seq_val, X_meta_val_scaled]))\n",
    "\n",
    "# Model 2: SVM Classifier\n",
    "svm = SVC(kernel='rbf', random_state=42)\n",
    "svm.fit(np.hstack([X_seq_train, X_meta_train_scaled]), y_train)\n",
    "svm_pred = svm.predict(np.hstack([X_seq_val, X_meta_val_scaled]))\n",
    "\n",
    "# Evaluating the models\n",
    "print(\"XGBoost Classification Report:\")\n",
    "print(classification_report(y_val, xgb_pred))\n",
    "\n",
    "print(\"SVM Classification Report:\")\n",
    "print(classification_report(y_val, svm_pred))\n",
    "\n",
    "# Calculate accuracy\n",
    "xgb_accuracy = accuracy_score(y_val, xgb_pred)\n",
    "svm_accuracy = accuracy_score(y_val, svm_pred)\n",
    "\n",
    "print(f\"XGBoost Accuracy: {xgb_accuracy}\")\n",
    "print(f\"SVM Accuracy: {svm_accuracy}\")\n"
   ]
  },
  {
   "cell_type": "markdown",
   "id": "a8525174-3419-4d73-9501-d724fdc4a13b",
   "metadata": {},
   "source": [
    "##  Define and Train RNN"
   ]
  },
  {
   "cell_type": "code",
   "execution_count": 14,
   "id": "0877d156-1354-434e-823f-35205049f1f0",
   "metadata": {},
   "outputs": [],
   "source": [
    "# PyTorch dataset class\n",
    "class MFCCDataset(Dataset):\n",
    "    def __init__(self, X, y):\n",
    "        self.X = torch.tensor(X, dtype=torch.float32)\n",
    "        self.y = torch.tensor(y, dtype=torch.float32)\n",
    "\n",
    "    def __len__(self):\n",
    "        return len(self.X)\n",
    "\n",
    "    def __getitem__(self, idx):\n",
    "        return self.X[idx], self.y[idx]\n",
    "\n",
    "# Simple RNN model\n",
    "class SimpleRNN(nn.Module):\n",
    "    def __init__(self, input_size=13, hidden_size=64):\n",
    "        super(SimpleRNN, self).__init__()\n",
    "        self.rnn = nn.GRU(input_size=1, hidden_size=hidden_size, batch_first=True)\n",
    "        self.fc = nn.Linear(hidden_size, 1)\n",
    "\n",
    "    def forward(self, x):\n",
    "        x = x.unsqueeze(-1)\n",
    "        out, _ = self.rnn(x)\n",
    "        return self.fc(out[:, -1, :]).squeeze()\n",
    "\n",
    "# Prepare data loaders\n",
    "train_ds = MFCCDataset(X_seq_train, y_train)\n",
    "val_ds = MFCCDataset(X_seq_val, y_val)\n",
    "train_loader = DataLoader(train_ds, batch_size=16, shuffle=True)\n",
    "val_loader = DataLoader(val_ds, batch_size=16)\n",
    "\n",
    "# Training setup\n",
    "device = torch.device(\"cuda\" if torch.cuda.is_available() else \"cpu\")\n",
    "rnn = SimpleRNN().to(device)\n",
    "optimizer = torch.optim.Adam(rnn.parameters(), lr=0.001)\n",
    "loss_fn = nn.MSELoss()\n",
    "\n",
    "# Train RNN\n",
    "for epoch in range(30):\n",
    "    rnn.train()\n",
    "    for xb, yb in train_loader:\n",
    "        xb, yb = xb.to(device), yb.to(device)\n",
    "        pred = rnn(xb)\n",
    "        loss = loss_fn(pred, yb)\n",
    "        optimizer.zero_grad()\n",
    "        loss.backward()\n",
    "        optimizer.step()\n"
   ]
  },
  {
   "cell_type": "markdown",
   "id": "038b7e93-3f46-46c2-88fc-f1650405b90e",
   "metadata": {},
   "source": [
    "## RNN Validation and Ensemble Prediction"
   ]
  },
  {
   "cell_type": "code",
   "execution_count": 15,
   "id": "ff1af2fc-a097-42f6-914d-2e36b81cb1ed",
   "metadata": {},
   "outputs": [],
   "source": [
    "# Validate RNN\n",
    "rnn.eval()\n",
    "rnn_preds = []\n",
    "with torch.no_grad():\n",
    "    for xb, _ in val_loader:\n",
    "        xb = xb.to(device)\n",
    "        preds = rnn(xb).cpu().numpy()\n",
    "        rnn_preds.extend(preds)\n",
    "\n",
    "# Ensemble: simple average of all three predictions\n",
    "ensemble_preds2 = (xgb_pred + svm_pred + np.array(rnn_preds)) / 3\n",
    "\n",
    "# Manually chosen weights (must sum to 1)\n",
    "w_xgb = 0.5\n",
    "w_svm = 0.3\n",
    "w_rnn = 0.2\n",
    "\n",
    "# Weighted ensemble\n",
    "ensemble_preds = (\n",
    "    w_xgb * xgb_pred +\n",
    "    w_svm * svm_pred +\n",
    "    w_rnn * np.array(rnn_preds)\n",
    ")\n"
   ]
  },
  {
   "cell_type": "code",
   "execution_count": null,
   "id": "f6f81692-2f34-441e-bf5b-f70c6b43b8be",
   "metadata": {},
   "outputs": [],
   "source": []
  },
  {
   "cell_type": "markdown",
   "id": "0f96f1e9-52d0-4aca-8075-962c4396a89b",
   "metadata": {},
   "source": [
    "## NEW CODE"
   ]
  },
  {
   "cell_type": "markdown",
   "id": "02eed829-6f36-439d-95b0-4d2cfc67e213",
   "metadata": {},
   "source": [
    "Bi-LSTM on MFCCs (sequence modeling)\n",
    "\n",
    "XGBoost & SVM on MFCC + pitch + rhythm features\n",
    "\n",
    "Meta-model (Ridge or LightGBM) for stacking\n",
    "\n",
    "Final ensemble via stacking"
   ]
  },
  {
   "cell_type": "markdown",
   "id": "01ce53e8-a479-4254-be07-d171a97ab270",
   "metadata": {},
   "source": [
    "## RNN Model (Bi-LSTM on MFCC sequences)"
   ]
  },
  {
   "cell_type": "code",
   "execution_count": null,
   "id": "83360573-ce19-444d-81cd-e128035bd7b1",
   "metadata": {},
   "outputs": [],
   "source": [
    "\n",
    "device = torch.device(\"cuda\" if torch.cuda.is_available() else \"cpu\")\n",
    "input_dim = X_seq_train[0].shape[1]\n",
    "\n",
    "model = BiLSTMClassifier(input_dim=input_dim).to(device)\n",
    "optimizer = torch.optim.Adam(model.parameters(), lr=1e-3)\n",
    "criterion = nn.CrossEntropyLoss()\n",
    "\n",
    "train_loader = DataLoader(MFCCDataset(X_seq_train, y_train), batch_size=16, shuffle=True, collate_fn=collate_fn)\n",
    "val_loader = DataLoader(MFCCDataset(X_seq_val, y_val), batch_size=16, collate_fn=collate_fn)\n",
    "\n",
    "for epoch in range(10):\n",
    "    model.train()\n",
    "    for X_batch, y_batch in train_loader:\n",
    "        X_batch, y_batch = X_batch.to(device), y_batch.to(device)\n",
    "        optimizer.zero_grad()\n",
    "        out = model(X_batch)\n",
    "        loss = criterion(out, y_batch)\n",
    "        loss.backward()\n",
    "        optimizer.step()\n",
    "\n",
    "model.eval()\n",
    "rnn_preds = []\n",
    "with torch.no_grad():\n",
    "    for X_batch, _ in val_loader:\n",
    "        X_batch = X_batch.to(device)\n",
    "        out = model(X_batch)\n",
    "        rnn_preds.extend(torch.argmax(out, dim=1).cpu().numpy())"
   ]
  },
  {
   "cell_type": "code",
   "execution_count": null,
   "id": "114e4f2e-d9e9-4f42-b77a-6e2a54f36e7e",
   "metadata": {},
   "outputs": [],
   "source": [
    "## XGBoost & SVM"
   ]
  },
  {
   "cell_type": "code",
   "execution_count": null,
   "id": "3a988b2e-80a4-4570-9c9b-68b9abdf3f71",
   "metadata": {},
   "outputs": [],
   "source": [
    "\n",
    "svm = SVC(probability=True)\n",
    "xgb = XGBClassifier(use_label_encoder=False, eval_metric='mlogloss')\n",
    "\n",
    "svm.fit(X_meta_train_scaled, y_train)\n",
    "xgb.fit(X_meta_train_scaled, y_train)\n",
    "\n",
    "svm_preds = svm.predict(X_meta_val_scaled)\n",
    "xgb_preds = xgb.predict(X_meta_val_scaled)"
   ]
  },
  {
   "cell_type": "code",
   "execution_count": null,
   "id": "f5b2ec83-95ea-4bc7-b21c-f4af37983462",
   "metadata": {},
   "outputs": [],
   "source": [
    "## Meta Model (Stacking)"
   ]
  },
  {
   "cell_type": "code",
   "execution_count": null,
   "id": "887a0f39-2644-4ed8-980b-9715d346d026",
   "metadata": {},
   "outputs": [],
   "source": [
    "\n",
    "stacked_input = np.vstack([rnn_preds, svm_preds, xgb_preds]).T\n",
    "\n",
    "meta_model = RidgeClassifier()\n",
    "# meta_model = LGBMClassifier()  # alternative\n",
    "meta_model.fit(stacked_input, y_val)\n",
    "final_preds = meta_model.predict(stacked_input)\n",
    "\n",
    "print(\"Ensemble Accuracy:\", accuracy_score(y_val, final_preds))"
   ]
  },
  {
   "cell_type": "code",
   "execution_count": null,
   "id": "752318a4-f861-43ca-9d45-93776b256f95",
   "metadata": {},
   "outputs": [],
   "source": []
  },
  {
   "cell_type": "code",
   "execution_count": null,
   "id": "239c1536-d4b2-4d3d-b289-b270699fcb8e",
   "metadata": {},
   "outputs": [],
   "source": []
  },
  {
   "cell_type": "code",
   "execution_count": null,
   "id": "7388baaa-70e1-4051-b88a-78c58e6c8138",
   "metadata": {},
   "outputs": [],
   "source": []
  },
  {
   "cell_type": "code",
   "execution_count": 16,
   "id": "056a06b6-d6dd-4fa4-a297-09d81256500d",
   "metadata": {},
   "outputs": [
    {
     "data": {
      "image/png": "[encoded data removed]",
      "text/plain": [
       "<Figure size 800x600 with 1 Axes>"
      ]
     },
     "metadata": {},
     "output_type": "display_data"
    },
    {
     "data": {
      "image/png": "[encoded data removed]",
      "text/plain": [
       "<Figure size 800x600 with 1 Axes>"
      ]
     },
     "metadata": {},
     "output_type": "display_data"
    },
    {
     "data": {
      "image/png": "[encoded data removed]",
      "text/plain": [
       "<Figure size 800x600 with 1 Axes>"
      ]
     },
     "metadata": {},
     "output_type": "display_data"
    },
    {
     "data": {
      "image/png": "[encoded data removed]",
      "text/plain": [
       "<Figure size 800x600 with 1 Axes>"
      ]
     },
     "metadata": {},
     "output_type": "display_data"
    }
   ],
   "source": [
    "# --- Plot XGBoost predictions ---\n",
    "plt.figure(figsize=(8, 6))\n",
    "sns.scatterplot(x=y_val, y=xgb_pred)\n",
    "plt.xlabel(\"Actual Scores\")\n",
    "plt.ylabel(\"Predicted Scores\")\n",
    "plt.title(\"XGBoost: Predicted vs Actual\")\n",
    "plt.grid(True)\n",
    "plt.show()\n",
    "\n",
    "# --- Plot SVM predictions ---\n",
    "plt.figure(figsize=(8, 6))\n",
    "sns.scatterplot(x=y_val, y=svm_pred)\n",
    "plt.xlabel(\"Actual Scores\")\n",
    "plt.ylabel(\"Predicted Scores\")\n",
    "plt.title(\"SVM: Predicted vs Actual\")\n",
    "plt.grid(True)\n",
    "plt.show()\n",
    "\n",
    "# --- Plot RNN predictions ---\n",
    "plt.figure(figsize=(8, 6))\n",
    "sns.scatterplot(x=y_val, y=rnn_preds)\n",
    "plt.xlabel(\"Actual Scores\")\n",
    "plt.ylabel(\"Predicted Scores\")\n",
    "plt.title(\"RNN: Predicted vs Actual\")\n",
    "plt.grid(True)\n",
    "plt.show()\n",
    "\n",
    "# --- Plot Ensemble predictions ---\n",
    "plt.figure(figsize=(8, 6))\n",
    "sns.scatterplot(x=y_val, y=ensemble_preds)\n",
    "plt.xlabel(\"Actual Scores\")\n",
    "plt.ylabel(\"Predicted Scores\")\n",
    "plt.title(\"Ensemble: Predicted vs Actual\")\n",
    "plt.grid(True)\n",
    "plt.show()\n"
   ]
  },
  {
   "cell_type": "code",
   "execution_count": 20,
   "id": "82eb653f-736b-4a7c-a682-b144d43f1930",
   "metadata": {},
   "outputs": [
    {
     "name": "stdout",
     "output_type": "stream",
     "text": [
      "SVM RESULTS\n",
      "MSE: 1.2738992385926742\n",
      "MAE: 0.9870209895418971\n",
      "Pearson Correlation: 0.2819016387957422\n",
      "\n",
      "XGBOOST RESULTS\n",
      "MSE: 1.32802101964264\n",
      "MAE: 1.0009521527236767\n",
      "Pearson Correlation: 0.28424369064026345\n",
      "\n",
      "RNN RESULTS\n",
      "MSE: 1.328850391990786\n",
      "MAE: 0.9982337737351321\n",
      "Pearson Correlation: 0.22172813076550796\n",
      "\n",
      "ENSEMBLE RESULTS\n",
      "MSE: 1.206850881380623\n",
      "MAE: 0.9696071698055762\n",
      "Pearson Correlation: 0.3386623843830967\n",
      "\n",
      "Classification Metrics (Rounded):\n",
      "Accuracy:  0.2472\n",
      "Precision: 0.0975\n",
      "Recall:    0.2472\n",
      "F1 Score:  0.1398\n"
     ]
    },
    {
     "data": {
      "image/png": "[encoded data removed]",
      "text/plain": [
       "<Figure size 640x480 with 1 Axes>"
      ]
     },
     "metadata": {},
     "output_type": "display_data"
    }
   ],
   "source": [
    "from scipy.stats import pearsonr\n",
    "\n",
    "\n",
    "# Metrics SVM\n",
    "mse = mean_squared_error(y_val, svm_pred)\n",
    "mae = mean_absolute_error(y_val, svm_pred)\n",
    "pearson_corr, _ = pearsonr(y_val, svm_pred)\n",
    "\n",
    "# Display results\n",
    "print(\"SVM RESULTS\")\n",
    "print(\"MSE:\", mse)\n",
    "print(\"MAE:\", mae)\n",
    "print(\"Pearson Correlation:\", pearson_corr)\n",
    "\n",
    "print()\n",
    "# Metrics XGBOOST\n",
    "mse = mean_squared_error(y_val, xgb_pred)\n",
    "mae = mean_absolute_error(y_val, xgb_pred)\n",
    "pearson_corr, _ = pearsonr(y_val, xgb_pred)\n",
    "\n",
    "# Display results\n",
    "print(\"XGBOOST RESULTS\")\n",
    "print(\"MSE:\", mse)\n",
    "print(\"MAE:\", mae)\n",
    "print(\"Pearson Correlation:\", pearson_corr)\n",
    "\n",
    "print()\n",
    "# Metrics RNN\n",
    "mse = mean_squared_error(y_val, rnn_preds)\n",
    "mae = mean_absolute_error(y_val, rnn_preds)\n",
    "pearson_corr, _ = pearsonr(y_val, rnn_preds)\n",
    "\n",
    "# Display results\n",
    "print(\"RNN RESULTS\")\n",
    "print(\"MSE:\", mse)\n",
    "print(\"MAE:\", mae)\n",
    "print(\"Pearson Correlation:\", pearson_corr)\n",
    "\n",
    "print()\n",
    "# Metrics ENSEMBLE\n",
    "mse = mean_squared_error(y_val, ensemble_preds)\n",
    "mae = mean_absolute_error(y_val, ensemble_preds)\n",
    "pearson_corr, _ = pearsonr(y_val, ensemble_preds)\n",
    "\n",
    "# Display results\n",
    "print(\"ENSEMBLE RESULTS\")\n",
    "print(\"MSE:\", mse)\n",
    "print(\"MAE:\", mae)\n",
    "print(\"Pearson Correlation:\", pearson_corr)\n",
    "\n",
    "# METRICS of ENSEMBLE\n",
    "from sklearn.metrics import accuracy_score, precision_score, recall_score, f1_score\n",
    "\n",
    "y_val_class = np.round(y_val).astype(int)\n",
    "ensemble_class = np.round(ensemble_preds).astype(int)\n",
    "\n",
    "# Compute metrics\n",
    "accuracy = accuracy_score(y_val_class, ensemble_class)\n",
    "precision = precision_score(y_val_class, ensemble_class, average='weighted', zero_division=0)\n",
    "recall = recall_score(y_val_class, ensemble_class, average='weighted', zero_division=0)\n",
    "f1 = f1_score(y_val_class, ensemble_class, average='weighted', zero_division=0)\n",
    "\n",
    "print()\n",
    "print(\"Classification Metrics (Rounded):\")\n",
    "print(f\"Accuracy:  {accuracy:.4f}\")\n",
    "print(f\"Precision: {precision:.4f}\")\n",
    "print(f\"Recall:    {recall:.4f}\")\n",
    "print(f\"F1 Score:  {f1:.4f}\")\n",
    "\n",
    "\n",
    "# Plot predicted vs actual\n",
    "sns.scatterplot(x=y_val, y=ensemble_preds)\n",
    "plt.xlabel(\"Actual Scores\")\n",
    "plt.ylabel(\"Predicted Scores\")\n",
    "plt.title(\"Ensemble: Predicted vs Actual\")\n",
    "plt.grid(True)\n",
    "plt.show()\n"
   ]
  },
  {
   "cell_type": "code",
   "execution_count": null,
   "id": "f14c3580-2e95-4538-8951-abaf741fa5cb",
   "metadata": {},
   "outputs": [],
   "source": []
  }
 ],
 "metadata": {
  "kernelspec": {
   "display_name": "Python 3 (ipykernel)",
   "language": "python",
   "name": "python3"
  },
  "language_info": {
   "codemirror_mode": {
    "name": "ipython",
    "version": 3
   },
   "file_extension": ".py",
   "mimetype": "text/x-python",
   "name": "python",
   "nbconvert_exporter": "python",
   "pygments_lexer": "ipython3",
   "version": "3.10.10"
  }
 },
 "nbformat": 4,
 "nbformat_minor": 5
}
